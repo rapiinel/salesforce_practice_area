{
 "cells": [
  {
   "cell_type": "code",
   "execution_count": 1,
   "metadata": {},
   "outputs": [],
   "source": [
    "import pandas as pd\n",
    "import glob\n",
    "import numpy as np\n",
    "import matplotlib.pyplot as plt\n",
    "import seaborn as sns\n",
    "import warnings\n",
    "from tqdm.notebook import tqdm\n",
    "tqdm.pandas()"
   ]
  },
  {
   "cell_type": "code",
   "execution_count": 2,
   "metadata": {},
   "outputs": [],
   "source": [
    "warnings.filterwarnings('ignore')"
   ]
  },
  {
   "cell_type": "code",
   "execution_count": 3,
   "metadata": {},
   "outputs": [],
   "source": [
    "link = r\"C:\\Users\\rApiiNel\\Legalmatch\\Finance and Data Analysis Team - Sales Ops\\Python\\26 Salesforce Blank Practice Area Fix\\v1\\raw\""
   ]
  },
  {
   "cell_type": "code",
   "execution_count": 4,
   "metadata": {},
   "outputs": [],
   "source": [
    "file = glob.glob(link + '\\*3*')"
   ]
  },
  {
   "cell_type": "code",
   "execution_count": 5,
   "metadata": {},
   "outputs": [],
   "source": [
    "df = pd.read_csv(file[0], encoding='latin-1')"
   ]
  },
  {
   "cell_type": "markdown",
   "metadata": {},
   "source": [
    "#### Checking accounts that has comma in the practice area"
   ]
  },
  {
   "cell_type": "markdown",
   "metadata": {},
   "source": [
    "##### Test"
   ]
  },
  {
   "cell_type": "code",
   "execution_count": 6,
   "metadata": {},
   "outputs": [],
   "source": [
    "comma = df.dropna(subset = ['Practice Areas'])"
   ]
  },
  {
   "cell_type": "code",
   "execution_count": 7,
   "metadata": {},
   "outputs": [],
   "source": [
    "comma_test = comma[comma['Salesforce Account Id'] == '0014y00002aVQd7AAG']"
   ]
  },
  {
   "cell_type": "code",
   "execution_count": 8,
   "metadata": {},
   "outputs": [],
   "source": [
    "def comma_cleaner(df, column):\n",
    "    df['Cleaned ' + column] = df.apply(lambda x: ';'.join(list(set(x[column].replace(',',';').split(';')))), axis= 1)\n",
    "    df['Length ' + column] = df.apply(lambda x: len(x['Cleaned '+column].split(';')), axis = 1)"
   ]
  },
  {
   "cell_type": "code",
   "execution_count": 9,
   "metadata": {},
   "outputs": [],
   "source": [
    "comma_cleaner(comma_test, 'Practice Areas')"
   ]
  },
  {
   "cell_type": "code",
   "execution_count": 10,
   "metadata": {},
   "outputs": [],
   "source": [
    "comma_test.to_csv('comma_test.csv', index= False)"
   ]
  },
  {
   "cell_type": "markdown",
   "metadata": {},
   "source": [
    "##### Actual"
   ]
  },
  {
   "cell_type": "code",
   "execution_count": 11,
   "metadata": {},
   "outputs": [],
   "source": [
    "comma_cleaner(comma, 'Practice Areas')"
   ]
  },
  {
   "cell_type": "code",
   "execution_count": 12,
   "metadata": {},
   "outputs": [],
   "source": [
    "comma = comma[comma['Practice Areas'].str.contains(',')].drop_duplicates(subset= ['Salesforce Account Id'])\n",
    "comma['Cleaned Practice Areas'] = comma.apply(lambda x: x['Cleaned Practice Areas'].strip(), axis = 1)\n",
    "comma[['Salesforce Account Id', 'Cleaned Practice Areas']].to_csv('comma.csv', index= False)"
   ]
  },
  {
   "cell_type": "markdown",
   "metadata": {},
   "source": [
    "#### Contact with Comma"
   ]
  },
  {
   "cell_type": "code",
   "execution_count": 13,
   "metadata": {},
   "outputs": [],
   "source": [
    "comma_contact = df.dropna(subset = ['Practice Areas.1']).copy()"
   ]
  },
  {
   "cell_type": "code",
   "execution_count": 14,
   "metadata": {},
   "outputs": [],
   "source": [
    "comma_cleaner(comma_contact, 'Practice Areas.1')"
   ]
  },
  {
   "cell_type": "code",
   "execution_count": 15,
   "metadata": {},
   "outputs": [],
   "source": [
    "comma_contact = comma_contact[comma_contact['Length Practice Areas.1'] > 1]"
   ]
  },
  {
   "cell_type": "code",
   "execution_count": 16,
   "metadata": {},
   "outputs": [],
   "source": [
    "comma_contact = comma_contact[comma_contact['Practice Areas.1'].str.contains(',')]\n",
    "comma_contact = comma_contact[['Salesforce Contact Id', 'Cleaned Practice Areas.1']]"
   ]
  },
  {
   "cell_type": "code",
   "execution_count": 17,
   "metadata": {},
   "outputs": [],
   "source": [
    "comma_contact.to_csv('comma_contact.csv', index= False)\n"
   ]
  },
  {
   "cell_type": "markdown",
   "metadata": {},
   "source": [
    "#### Account and Contact Comparisson"
   ]
  },
  {
   "cell_type": "code",
   "execution_count": 18,
   "metadata": {},
   "outputs": [],
   "source": [
    "contact_df = df.dropna(subset = ['Practice Areas.1'])"
   ]
  },
  {
   "cell_type": "code",
   "execution_count": 19,
   "metadata": {},
   "outputs": [],
   "source": [
    "comma_cleaner(contact_df, 'Practice Areas.1')"
   ]
  },
  {
   "cell_type": "code",
   "execution_count": 20,
   "metadata": {},
   "outputs": [],
   "source": [
    "contact_df = contact_df.groupby('Salesforce Account Id').agg({'Cleaned Practice Areas.1':lambda x: ';'.join([x.strip() for x in list(set(';'.join(x).split(';')))])})"
   ]
  },
  {
   "cell_type": "code",
   "execution_count": 21,
   "metadata": {},
   "outputs": [],
   "source": [
    "account_df = df.dropna(subset = ['Practice Areas'])\n",
    "comma_cleaner(account_df, 'Practice Areas')"
   ]
  },
  {
   "cell_type": "code",
   "execution_count": 22,
   "metadata": {},
   "outputs": [],
   "source": [
    "account_df = account_df.groupby('Salesforce Account Id').agg({'Cleaned Practice Areas':lambda x: ';'.join([x.strip() for x in list(set(';'.join(x).split(';')))])})"
   ]
  },
  {
   "cell_type": "code",
   "execution_count": 23,
   "metadata": {},
   "outputs": [
    {
     "data": {
      "text/plain": [
       "Counter({True: 330792, False: 6})"
      ]
     },
     "execution_count": 23,
     "metadata": {},
     "output_type": "execute_result"
    }
   ],
   "source": [
    "from collections import Counter as counter\n",
    "counter(contact_df.index.isin(account_df.index))"
   ]
  },
  {
   "cell_type": "code",
   "execution_count": 24,
   "metadata": {},
   "outputs": [],
   "source": [
    "comp_df = account_df.merge(contact_df, left_index=True, right_index=True)"
   ]
  },
  {
   "cell_type": "code",
   "execution_count": 25,
   "metadata": {},
   "outputs": [
    {
     "data": {
      "application/vnd.jupyter.widget-view+json": {
       "model_id": "663760413bea4dc8a77dde7855b0f695",
       "version_major": 2,
       "version_minor": 0
      },
      "text/plain": [
       "  0%|          | 0/330792 [00:00<?, ?it/s]"
      ]
     },
     "metadata": {},
     "output_type": "display_data"
    }
   ],
   "source": [
    "comp_df['Difference'] = comp_df.progress_apply(lambda x: set(x['Cleaned Practice Areas.1'].split(';')) - set(x['Cleaned Practice Areas'].split(';')), axis= 1)"
   ]
  },
  {
   "cell_type": "code",
   "execution_count": 26,
   "metadata": {},
   "outputs": [
    {
     "data": {
      "application/vnd.jupyter.widget-view+json": {
       "model_id": "1f41083c59af417eb928213932a43b05",
       "version_major": 2,
       "version_minor": 0
      },
      "text/plain": [
       "  0%|          | 0/330792 [00:00<?, ?it/s]"
      ]
     },
     "metadata": {},
     "output_type": "display_data"
    }
   ],
   "source": [
    "comp_df['Length Difference'] = comp_df.progress_apply(lambda x: len(x['Difference']), axis = 1)"
   ]
  },
  {
   "cell_type": "code",
   "execution_count": 31,
   "metadata": {},
   "outputs": [
    {
     "data": {
      "application/vnd.jupyter.widget-view+json": {
       "model_id": "0c08c12f031747a79575a71a1b76d8cc",
       "version_major": 2,
       "version_minor": 0
      },
      "text/plain": [
       "  0%|          | 0/330792 [00:00<?, ?it/s]"
      ]
     },
     "metadata": {},
     "output_type": "display_data"
    }
   ],
   "source": [
    "comp_df['To be uploaded in Account Practice Areas'] = comp_df.progress_apply(lambda x: '; '.join(x['Difference']), axis= 1)"
   ]
  },
  {
   "cell_type": "code",
   "execution_count": 27,
   "metadata": {},
   "outputs": [
    {
     "data": {
      "text/html": [
       "<div>\n",
       "<style scoped>\n",
       "    .dataframe tbody tr th:only-of-type {\n",
       "        vertical-align: middle;\n",
       "    }\n",
       "\n",
       "    .dataframe tbody tr th {\n",
       "        vertical-align: top;\n",
       "    }\n",
       "\n",
       "    .dataframe thead th {\n",
       "        text-align: right;\n",
       "    }\n",
       "</style>\n",
       "<table border=\"1\" class=\"dataframe\">\n",
       "  <thead>\n",
       "    <tr style=\"text-align: right;\">\n",
       "      <th></th>\n",
       "      <th>Cleaned Practice Areas</th>\n",
       "      <th>Cleaned Practice Areas.1</th>\n",
       "      <th>Difference</th>\n",
       "      <th>Length Difference</th>\n",
       "    </tr>\n",
       "    <tr>\n",
       "      <th>Salesforce Account Id</th>\n",
       "      <th></th>\n",
       "      <th></th>\n",
       "      <th></th>\n",
       "      <th></th>\n",
       "    </tr>\n",
       "  </thead>\n",
       "  <tbody>\n",
       "    <tr>\n",
       "      <th>0010e00001JRDMbAAP</th>\n",
       "      <td>Government;Government and Administrative;Plann...</td>\n",
       "      <td>Government;Zoning;Planning and Land Use;Govern...</td>\n",
       "      <td>{Law and Government/Procurement}</td>\n",
       "      <td>1</td>\n",
       "    </tr>\n",
       "    <tr>\n",
       "      <th>0010e00001JRDNHAA5</th>\n",
       "      <td>Government Administration and Regulation;State...</td>\n",
       "      <td>Government;Administrative;Corporate;Insurance;...</td>\n",
       "      <td>{Governance and Rule of Law}</td>\n",
       "      <td>1</td>\n",
       "    </tr>\n",
       "    <tr>\n",
       "      <th>0010e00001JRDOdAAP</th>\n",
       "      <td>Commercial Litigation;Environmental and Land U...</td>\n",
       "      <td>Environmental and Land Use;Labor and Employmen...</td>\n",
       "      <td>{Environment/Natural Resources}</td>\n",
       "      <td>1</td>\n",
       "    </tr>\n",
       "    <tr>\n",
       "      <th>0010e00001JRDQPAA5</th>\n",
       "      <td>Environmental;Real Estate;Criminal;Civil Right...</td>\n",
       "      <td>Environmental;Real Estate;Disability Law | Leg...</td>\n",
       "      <td>{Disability Law | Legal Malpractice | Medical ...</td>\n",
       "      <td>1</td>\n",
       "    </tr>\n",
       "    <tr>\n",
       "      <th>0010e00001JRDQfAAP</th>\n",
       "      <td>Business/ Commercial;General;Legal Research an...</td>\n",
       "      <td>Business/ Commercial;General;Legal Research an...</td>\n",
       "      <td>{Debtor-Creditor}</td>\n",
       "      <td>1</td>\n",
       "    </tr>\n",
       "    <tr>\n",
       "      <th>...</th>\n",
       "      <td>...</td>\n",
       "      <td>...</td>\n",
       "      <td>...</td>\n",
       "      <td>...</td>\n",
       "    </tr>\n",
       "    <tr>\n",
       "      <th>0016000000ogh6kAAA</th>\n",
       "      <td>Real Estate;Employment;Product Liability;Insur...</td>\n",
       "      <td>Administrative;Education;Real Estate;Employmen...</td>\n",
       "      <td>{Administrative, Education}</td>\n",
       "      <td>2</td>\n",
       "    </tr>\n",
       "    <tr>\n",
       "      <th>0016000000ojmGoAAI</th>\n",
       "      <td>City/County/Local Government;Civil Litigation;...</td>\n",
       "      <td>Constitutional;City/County/Local Government;Ci...</td>\n",
       "      <td>{Law and Government/Procurement}</td>\n",
       "      <td>1</td>\n",
       "    </tr>\n",
       "    <tr>\n",
       "      <th>0016000000pG2eqAAC</th>\n",
       "      <td>Cyberspace;General Practice;Business Transacti...</td>\n",
       "      <td>General Practice;Business Transactional;Securi...</td>\n",
       "      <td>{Business litigation}</td>\n",
       "      <td>1</td>\n",
       "    </tr>\n",
       "    <tr>\n",
       "      <th>0016000000pyQwwAAE</th>\n",
       "      <td>Business Litigation;Native American;General Pr...</td>\n",
       "      <td>Native American;Intellectual Property;General ...</td>\n",
       "      <td>{Business litigation}</td>\n",
       "      <td>1</td>\n",
       "    </tr>\n",
       "    <tr>\n",
       "      <th>0016000000s8G6VAAU</th>\n",
       "      <td>Criminal</td>\n",
       "      <td>Consumer;Health and Elder Care;Criminal</td>\n",
       "      <td>{Consumer, Health and Elder Care}</td>\n",
       "      <td>2</td>\n",
       "    </tr>\n",
       "  </tbody>\n",
       "</table>\n",
       "<p>201 rows × 4 columns</p>\n",
       "</div>"
      ],
      "text/plain": [
       "                                                  Cleaned Practice Areas  \\\n",
       "Salesforce Account Id                                                      \n",
       "0010e00001JRDMbAAP     Government;Government and Administrative;Plann...   \n",
       "0010e00001JRDNHAA5     Government Administration and Regulation;State...   \n",
       "0010e00001JRDOdAAP     Commercial Litigation;Environmental and Land U...   \n",
       "0010e00001JRDQPAA5     Environmental;Real Estate;Criminal;Civil Right...   \n",
       "0010e00001JRDQfAAP     Business/ Commercial;General;Legal Research an...   \n",
       "...                                                                  ...   \n",
       "0016000000ogh6kAAA     Real Estate;Employment;Product Liability;Insur...   \n",
       "0016000000ojmGoAAI     City/County/Local Government;Civil Litigation;...   \n",
       "0016000000pG2eqAAC     Cyberspace;General Practice;Business Transacti...   \n",
       "0016000000pyQwwAAE     Business Litigation;Native American;General Pr...   \n",
       "0016000000s8G6VAAU                                              Criminal   \n",
       "\n",
       "                                                Cleaned Practice Areas.1  \\\n",
       "Salesforce Account Id                                                      \n",
       "0010e00001JRDMbAAP     Government;Zoning;Planning and Land Use;Govern...   \n",
       "0010e00001JRDNHAA5     Government;Administrative;Corporate;Insurance;...   \n",
       "0010e00001JRDOdAAP     Environmental and Land Use;Labor and Employmen...   \n",
       "0010e00001JRDQPAA5     Environmental;Real Estate;Disability Law | Leg...   \n",
       "0010e00001JRDQfAAP     Business/ Commercial;General;Legal Research an...   \n",
       "...                                                                  ...   \n",
       "0016000000ogh6kAAA     Administrative;Education;Real Estate;Employmen...   \n",
       "0016000000ojmGoAAI     Constitutional;City/County/Local Government;Ci...   \n",
       "0016000000pG2eqAAC     General Practice;Business Transactional;Securi...   \n",
       "0016000000pyQwwAAE     Native American;Intellectual Property;General ...   \n",
       "0016000000s8G6VAAU               Consumer;Health and Elder Care;Criminal   \n",
       "\n",
       "                                                              Difference  \\\n",
       "Salesforce Account Id                                                      \n",
       "0010e00001JRDMbAAP                      {Law and Government/Procurement}   \n",
       "0010e00001JRDNHAA5                          {Governance and Rule of Law}   \n",
       "0010e00001JRDOdAAP                       {Environment/Natural Resources}   \n",
       "0010e00001JRDQPAA5     {Disability Law | Legal Malpractice | Medical ...   \n",
       "0010e00001JRDQfAAP                                     {Debtor-Creditor}   \n",
       "...                                                                  ...   \n",
       "0016000000ogh6kAAA                           {Administrative, Education}   \n",
       "0016000000ojmGoAAI                      {Law and Government/Procurement}   \n",
       "0016000000pG2eqAAC                                 {Business litigation}   \n",
       "0016000000pyQwwAAE                                 {Business litigation}   \n",
       "0016000000s8G6VAAU                     {Consumer, Health and Elder Care}   \n",
       "\n",
       "                       Length Difference  \n",
       "Salesforce Account Id                     \n",
       "0010e00001JRDMbAAP                     1  \n",
       "0010e00001JRDNHAA5                     1  \n",
       "0010e00001JRDOdAAP                     1  \n",
       "0010e00001JRDQPAA5                     1  \n",
       "0010e00001JRDQfAAP                     1  \n",
       "...                                  ...  \n",
       "0016000000ogh6kAAA                     2  \n",
       "0016000000ojmGoAAI                     1  \n",
       "0016000000pG2eqAAC                     1  \n",
       "0016000000pyQwwAAE                     1  \n",
       "0016000000s8G6VAAU                     2  \n",
       "\n",
       "[201 rows x 4 columns]"
      ]
     },
     "execution_count": 27,
     "metadata": {},
     "output_type": "execute_result"
    }
   ],
   "source": [
    "comp_df[comp_df['Length Difference'] > 0]"
   ]
  },
  {
   "cell_type": "markdown",
   "metadata": {},
   "source": [
    "# Conclusion"
   ]
  },
  {
   "cell_type": "markdown",
   "metadata": {},
   "source": [
    "1. There are occurrence of practice area being displayed in salesforce that are not found in the drop down.\n",
    "    - This can possible affect plan - 3133 matching\n",
    "1. Check initial data on practice areas not included in the picklist\n",
    "    - How many records are affected?\n",
    "    - what is the possible cause?\n",
    "        - Check possible charactiristics\n",
    "    - how many specific practice areas are need to be corrected?"
   ]
  }
 ],
 "metadata": {
  "kernelspec": {
   "display_name": "Python 3.9.13 64-bit",
   "language": "python",
   "name": "python3"
  },
  "language_info": {
   "codemirror_mode": {
    "name": "ipython",
    "version": 3
   },
   "file_extension": ".py",
   "mimetype": "text/x-python",
   "name": "python",
   "nbconvert_exporter": "python",
   "pygments_lexer": "ipython3",
   "version": "3.9.13"
  },
  "orig_nbformat": 4,
  "vscode": {
   "interpreter": {
    "hash": "11938c6bc6919ae2720b4d5011047913343b08a43b18698fd82dedb0d4417594"
   }
  }
 },
 "nbformat": 4,
 "nbformat_minor": 2
}
